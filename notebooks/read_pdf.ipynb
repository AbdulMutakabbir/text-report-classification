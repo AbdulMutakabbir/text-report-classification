{
 "cells": [
  {
   "cell_type": "code",
   "execution_count": 229,
   "metadata": {},
   "outputs": [],
   "source": [
    "# ! pip install pdfplumber\n",
    "# ! pip install transformers torch\n",
    "# ! pip install summa\n",
    "# ! pip install pandas"
   ]
  },
  {
   "attachments": {},
   "cell_type": "markdown",
   "metadata": {},
   "source": [
    "# Task 1: Conver to Tabluar"
   ]
  },
  {
   "cell_type": "code",
   "execution_count": 230,
   "metadata": {},
   "outputs": [],
   "source": [
    "# from summa import keywords\n",
    "\n",
    "# # Extract keywords\n",
    "# extracted_keywords = keywords.keywords(reports[0])\n",
    "\n",
    "# print(extracted_keywords)"
   ]
  },
  {
   "cell_type": "code",
   "execution_count": 18,
   "metadata": {},
   "outputs": [],
   "source": [
    "import pdfplumber"
   ]
  },
  {
   "cell_type": "code",
   "execution_count": 19,
   "metadata": {},
   "outputs": [],
   "source": [
    "PDF_FILE_PATH = \"../dataset/Sample Financial Reports Data.pdf\"\n",
    "\n",
    "REPORTS_PAGES = [\n",
    "    [2,3,4,5],\n",
    "    [6,7,8,9]\n",
    "]\n",
    "\n",
    "reports = {}"
   ]
  },
  {
   "cell_type": "code",
   "execution_count": 38,
   "metadata": {},
   "outputs": [],
   "source": [
    "with pdfplumber.open(PDF_FILE_PATH) as pdf:\n",
    "    for report_id, report_pages in enumerate(REPORTS_PAGES):\n",
    "        report = \"\"\n",
    "        for page in report_pages:\n",
    "            page_text = pdf.pages[page-1].extract_text() \n",
    "            report += page_text\n",
    "        reports[report_id] = report#.replace(\"\\n\", \" \")\n",
    "\n",
    "        "
   ]
  },
  {
   "cell_type": "code",
   "execution_count": 228,
   "metadata": {},
   "outputs": [],
   "source": [
    "# print(reports[1])"
   ]
  },
  {
   "cell_type": "code",
   "execution_count": 193,
   "metadata": {},
   "outputs": [
    {
     "data": {
      "text/plain": [
       "['Source Referral 99999B.C. LTD. was\\nflagged for receiving a high volume of e-transfers.\\nBackground Investigation and Account Analysis 99999B.C. LTD., coded as\\nWholesale-Motor Vehicles - Parts Used, has been a DATATHON client since\\nFebruary 2020 and is solely owned by Kal Mao. Open-source searches on\\n99999B.C. LTD. revealed no apparent information relating to the nature\\nof the business. Similarly, no open-source information was found on Kal\\nMao. A Google Maps of the recorded address for 99999B.C. LTD. (which is\\nthe same address for MAO revealed it to be a residential house.\\nA review was conducted on CAD business account 11111-22222200\\n(belonging to 99999B.C. LTD.) from February 26, 2020 to June 10, 2020\\nrevealed that the account was fully funded by one thousand two hundred\\neighty-four e-transfers totaling $310,557.79, received from various\\nthird parties (at various financial institutions). Some of the\\nremitters of the e-transfers were using names such as Marijuana,\\nCannabis, Marijuana dealer, CAMMA Trumpet, and cammatrumpet.ca for\\na payee name.\\nOpen-source searches on cammatrumpet.ca revealed it to be an online\\nCannabis dispensary. There is no indication on the Health Canada website\\nthat the business or CAMMA Trumpet are licensed to produce, cultivate or\\ndistribute Cannabis under the Cannabis Act. It is also worth noting that\\nthe statements below were displayed on the website of cammatrumpet.ca\\n(June 19, 2020): This domain has been seized by the Maple Leaf Police\\nService due to its contravention of The Cannabis Act. If you have any\\nPage 3 of 9information regarding the activities of this domain related to the\\ndistribution, selling, or promotion of Cannabis, please contact your\\nlocal law enforcement agency and reference MLPS File Number 20-112223.\\nThe funds were depleted through bank drafts totaling $309,728.83, made\\npayable to third parties (at various financial institutions), including\\nPage 4 of 9the following DATATHON clients: $9,587.00 made payable to 12345678\\nCANADA INC. (Client Number: 111112345, coded as Temporary Help Supply\\nServices) on March 18, 2020. Overview of the business account revealed a\\nhigh volume of e-transfers seemingly connected to the Cannabis industry;\\na case has been created to further investigate the activity conducted\\nwithin the business account of 12345678 CANADA INC.\\n$16,921.80 made payable to Benny NGO (Client Number: 123451234, with\\noccupation listed as chef Training) on April 29, 2020. The funds\\nreceived were depleted in lump sum via cash withdrawals, loan payments,\\nand pre-authorized payments; there was no e-transfers activity noted.\\n$12,335.95 made payable to LB GLOBAL MEDICAL INC. (Client Number:\\n123456123, coded as Advertising Agencies) on March 12, 2020. Overview of\\nthe business accounts revealed the draft was in turn depleted by online\\npurchase at Facebook for advertisement; as per DATATHON internal note,\\nLB GLOBAL MEDICAL INC. is purported to be involved in online\\nadvertisement.\\nCONCLUSION & ']"
      ]
     },
     "execution_count": 193,
     "metadata": {},
     "output_type": "execute_result"
    }
   ],
   "source": [
    "import re\n",
    "\n",
    "patterns = {\n",
    "    \"reporting_entity\": r\"Reporting Entity/\\n(.+)\\n\",\n",
    "    \"transaction_date\": r\"Transaction date (\\d{4}-\\d{2}-\\d{2})\",\n",
    "    \"account_holder\": r\"Account holder\\s(.+)$\",\n",
    "    \"conductor\": r\"Conductor (.+)$\",\n",
    "    # \"investigation_summary\": r\"INVESTIGATION SUMMARY([\\(\\).,'\\-$\\w\\s\\d\\n]+)Business Client Profiles|Client Profile\",\n",
    "    \"name\": r\"Name: (.+)$\",\n",
    "    \"ref_no\": r\"Ref\\.? No\\.?: (\\d+)$\", # note multiple values\n",
    "    \"gender\": r\"Gender: (\\w+)\",\n",
    "    \"dob\": r\"Date of Birth: (\\w+ \\d{2}, \\d{4})\",\n",
    "    \"address\": r\"Address: ([\\d\\w\\s,]+)\\nPhone\", # note multiple\n",
    "    \"phone\": r\"Phone[\\d\\w\\s()]+:\\s*(\\(\\d{3}\\)\\s*\\d{3}\\-\\d{4})\",\n",
    "    \"email\": r\"E-mail:\\s*([\\w\\d@.]+)\",\n",
    "    \"identity\": r\"Identifiction: ([\\d\\w\\s]+)\\nOccupation:\", # note N/A for 1 \n",
    "    \"occupation\": r\"Occupation:\\s*([\\w\\s]+)$\",\n",
    "    \"employer\": r\"Employer:\\s*([\\w\\s]+)$\",\n",
    "    \"client_since\": r\"Client Since:\\s*(.*)$\", # note multiple exist\n",
    "    # \"datathon_account\": ,\n",
    "    \"investigation_details\": r\"INVESTIGATION DETAILS\\s*([\\s\\w\\d\\[\\]\\-;,.:$&’/()]+)RECOMMENDATION\",\n",
    "    \"recommendations\": r\"RECOMMENDATION\\s*([\\s\\d\\w\\-’,.]+)\\s*[REFERENCES|APPENDICES]\", \n",
    "    \"appendices\": r\"APPENDICES\\s*([\\w\\d\\s\\-:.,$]+)\\s*REFERENCES\",\n",
    "    \"references\": r\"REFERENCES\\s*([\\[\\]\\d\\w\\s:/\\-.,()]+)\",\n",
    "\n",
    "}\n",
    "\n",
    "re.findall(pattern=patterns['investigation_details'], string=reports[0], flags=re.MULTILINE)\n"
   ]
  },
  {
   "cell_type": "code",
   "execution_count": 256,
   "metadata": {},
   "outputs": [],
   "source": [
    "import pandas as pd\n",
    "rows = []\n",
    "\n",
    "for report_id in reports:\n",
    "    data = {\n",
    "        key: \"; \".join(re.findall(pattern=patterns[key], string=reports[report_id], flags=re.MULTILINE))\n",
    "        for key in patterns.keys()\n",
    "    }\n",
    "    rows.append(data)\n",
    "\n",
    "\n",
    "dataset_df = pd.DataFrame(rows)\n",
    "\n",
    "dataset_df.to_csv(\"../dataset/preprocessed.csv\", index=False)"
   ]
  },
  {
   "cell_type": "code",
   "execution_count": 297,
   "metadata": {},
   "outputs": [],
   "source": [
    "reports[2] = \"\"\"\n",
    "INVESTIGATION DETAILS Source Referral BSGHB.C. LTD. was\n",
    "flagged for receiving a high volume of e-transfers.\n",
    "Background Investigation and Account Analysis BSGHB.C. LTD., coded as\n",
    "High-end Vehicles - Parts Used, has been a MAGNET client since\n",
    "March 2022 and is solely owned by James Taylor. Open-source searches on\n",
    "BSGHB.C. LTD. revealed no apparent information relating to the nature\n",
    "of the business. Similarly, no open-source information was found on James\n",
    "Taylor. A Google Maps of the recorded address for BSGHB.C. LTD. (which is\n",
    "the same address for Taylor revealed it to be a residential house.\n",
    "A review was conducted on CAD business account 11111-22222200\n",
    "(belonging to BSGHB.C. LTD.) from February 26, 2020 to June 10, 2020\n",
    "revealed that the account was fully funded by one thousand two hundred\n",
    "eighty-four e-transfers totaling $220,557.79, received from various\n",
    "third parties (at various financial institutions). Some of the\n",
    "remitters of the e-transfers were using names such as Marijuana,\n",
    "Cannabis, Marijuana dealer, CANNA Trumpet, and CANNAtrumpet.ca for\n",
    "a payee name.\n",
    "Open-source searches on CANNAtrumpet.ca revealed it to be an online\n",
    "Cannabis dispensary. There is no indication on the Health Canada website\n",
    "that the business or CANNA Trumpet are licensed to produce, cultivate or\n",
    "distribute Cannabis under the Cannabis Act. It is also worth noting that\n",
    "the statements below were displayed on the website of CANNAtrumpet.ca\n",
    "(June 19, 2020): This domain has been seized by the Bango Leaf Police\n",
    "Service due to its contravention of The Cannabis Act. If you have any information regarding the activities of this domain related to the\n",
    "distribution, selling, or promotion of Cannabis, please contact your\n",
    "local law enforcement agency and reference MLPS File Number 20-112223.\n",
    "The funds were depleted through bank drafts totaling $309,728.83, made\n",
    "payable to third parties (at various financial institutions), including the following MAGNET clients: $9,587.00 made payable to 12345678\n",
    "CANADA INC. (Client Number: 777888998, coded as Temporary Help Supply\n",
    "Services) on March 18, 2020. Overview of the business account revealed a\n",
    "high volume of e-transfers seemingly connected to the Cannabis industry;\n",
    "a case has been created to further investigate the activity conducted\n",
    "within the business account of 76767676 CANADA INC.\n",
    "$16,921.80 made payable to Benny NGO (Client Number: 98978989, with\n",
    "occupation listed as chef Training) on April 29, 2020. The funds\n",
    "received were depleted in lump sum via cash withdrawals, loan payments,\n",
    "and pre-authorized payments; there was no e-transfers activity noted.\n",
    "$10,335.95 made payable to LB GLOBAL TRIAGE INC. (Client Number:\n",
    "123456123, coded as Promotion Agencies) on April 12, 2021. Overview of\n",
    "the business accounts revealed the draft was in turn depleted by online\n",
    "purchase at Facebook for promotion; as per MAGNET internal note,\n",
    "LB GLOBAL TRIAGE INC. is purported to be involved in online\n",
    "advertisement. \n",
    " \n",
    "\"\"\""
   ]
  },
  {
   "cell_type": "code",
   "execution_count": 299,
   "metadata": {},
   "outputs": [
    {
     "data": {
      "text/plain": [
       "{'reporting_entity': '',\n",
       " 'transaction_date': '',\n",
       " 'account_holder': '',\n",
       " 'conductor': '',\n",
       " 'name': '',\n",
       " 'ref_no': '',\n",
       " 'gender': '',\n",
       " 'dob': '',\n",
       " 'address': '',\n",
       " 'phone': '',\n",
       " 'email': '',\n",
       " 'identity': '',\n",
       " 'occupation': '',\n",
       " 'employer': '',\n",
       " 'client_since': '',\n",
       " 'investigation_details': '',\n",
       " 'recommendations': '',\n",
       " 'appendices': '',\n",
       " 'references': ''}"
      ]
     },
     "execution_count": 299,
     "metadata": {},
     "output_type": "execute_result"
    }
   ],
   "source": [
    "data = {\n",
    "    key: \"; \".join(re.findall(pattern=patterns[key], string=reports[2], flags=re.MULTILINE))\n",
    "    for key in patterns.keys()\n",
    "}\n",
    "data"
   ]
  },
  {
   "cell_type": "code",
   "execution_count": 301,
   "metadata": {},
   "outputs": [
    {
     "data": {
      "text/plain": [
       "'FINANCIAL REPORT #1\\nSUSPICIOUS TRANSACTION REPORT (STR)\\nReporting Entity/\\nDATATHON BANK\\nPlace of Transaction\\nTransaction date 2020-03-24\\nTable # 1\\nAccount holder 99999B.C. LTD.\\nConductor Kal Mao\\nREPORTING ENTITY’S GROUNDS FOR SUSPICION\\nFOUND RELEVANT BY HRM\\n“DECISION STR Recommendation\\nADVISORY NOTICE: HRM Not Applicable\\nIndustry Tag(s): Not Applicable\\nDATATHON Internal Tag(s): Not\\nApplicable Typology(ies)\\nObserved: Cannabis\\nTrafficking May be of\\nInterest to:\\nPrevious STR(s): There was no previous STR(s) submitted for 99999B.C.\\nLTD., and Kal Mao\\nDEFINITIONS & ABBREVIATIONS All monetary values referred to in this\\nreport are in Canadian (CAD) currency and rounded unless otherwise\\nstated.\\nINVESTIGATION SUMMARY This STR for 99999B.C. LTD. (and sole owner Kal\\nMao) relates to outgoing bank drafts, conducted between March 10, 2020\\nand May 29, 2020, which are deemed suspicious as the business is\\nseemingly connected to the sale of unlicensed Cannabis. The outgoing\\nbank drafts (which totaled $309,728.83) were sourced through e-transfers\\nfrom various third parties (at various financial institutions). Some of\\nthe remitters of the e-transfers were using names such as CAMMA Trumpet\\nas a payee name, which is seemingly connected to cammatrumpet.ca an\\nonline, unlicensed Cannabis dispensary. There is no indication on the\\nHealth Canada website that 99999B.C. LTD. or CAMMA Trumpet are licensed\\nto produce or distribute Cannabis. Given that the account activities of\\n99999B.C. LTD. are seemingly linked to dealings with an unlicensed\\nCannabis dispensary, an STR is being filed.\\nBusiness Client Profiles\\nLegal Name: 99999B.C. LTD.\\nClient Ref. No: 123456789\\nAddress: 111 BROWN STREET, MAPLE LEAF, BRITISH COLUMBIA, K6L 0T6,\\nCANADA\\nPhone: (123) 111-2222\\nE-mail: secureLTD1234567@gmail.com\\nPage 2 of 9Business Type: Wholesale\\nMotor Vehicles - Parts Used\\nOwner(s): Kal Mao (100%)\\nAuthorities: Kal Mao Client\\nSince: February 2020\\nEstablished: February 19, 2020\\nDATATHON Accounts: No active accounts as of June 10,\\n2020 Legal Name: 99999B.C. LTD.\\nClient Ref. No: 123456789\\nPhone: (123) 654-2222\\nClient Since: February 2020\\nDATATHON Accounts: No active accounts as of June 10,\\n2020\\nClient Profile Name: Kal Mao\\nClient Ref. No: 777456789\\nGender: Male\\nDate of Birth: January 30, 1994\\nAddress: 111 BROWN STREET, MAPLE LEAF, BRITISH COLUMBIA, K6L 0T6,\\nCANADA\\nPhone (Home): (123) 111-3333\\nPhone (Work): (122) 111-3333\\nIdentification: British Columbia driver’s license: 1111222\\nOccupation: Owner of a Business\\nEmployer: AMMA BEUATY SALON\\nBusiness Owned: 99999B.C. LTD. (100%)\\nSigning Authorities: 99999B.C. LTD.\\nClient Since: January 2020\\nDATATHON Accounts: Loan account 11122 11112222 002 Held jointly with AMMA\\nLY\\nINVESTIGATION DETAILS Source Referral 99999B.C. LTD. was\\nflagged for receiving a high volume of e-transfers.\\nBackground Investigation and Account Analysis 99999B.C. LTD., coded as\\nWholesale-Motor Vehicles - Parts Used, has been a DATATHON client since\\nFebruary 2020 and is solely owned by Kal Mao. Open-source searches on\\n99999B.C. LTD. revealed no apparent information relating to the nature\\nof the business. Similarly, no open-source information was found on Kal\\nMao. A Google Maps of the recorded address for 99999B.C. LTD. (which is\\nthe same address for MAO revealed it to be a residential house.\\nA review was conducted on CAD business account 11111-22222200\\n(belonging to 99999B.C. LTD.) from February 26, 2020 to June 10, 2020\\nrevealed that the account was fully funded by one thousand two hundred\\neighty-four e-transfers totaling $310,557.79, received from various\\nthird parties (at various financial institutions). Some of the\\nremitters of the e-transfers were using names such as Marijuana,\\nCannabis, Marijuana dealer, CAMMA Trumpet, and cammatrumpet.ca for\\na payee name.\\nOpen-source searches on cammatrumpet.ca revealed it to be an online\\nCannabis dispensary. There is no indication on the Health Canada website\\nthat the business or CAMMA Trumpet are licensed to produce, cultivate or\\ndistribute Cannabis under the Cannabis Act. It is also worth noting that\\nthe statements below were displayed on the website of cammatrumpet.ca\\n(June 19, 2020): This domain has been seized by the Maple Leaf Police\\nService due to its contravention of The Cannabis Act. If you have any\\nPage 3 of 9information regarding the activities of this domain related to the\\ndistribution, selling, or promotion of Cannabis, please contact your\\nlocal law enforcement agency and reference MLPS File Number 20-112223.\\nThe funds were depleted through bank drafts totaling $309,728.83, made\\npayable to third parties (at various financial institutions), including\\nPage 4 of 9the following DATATHON clients: $9,587.00 made payable to 12345678\\nCANADA INC. (Client Number: 111112345, coded as Temporary Help Supply\\nServices) on March 18, 2020. Overview of the business account revealed a\\nhigh volume of e-transfers seemingly connected to the Cannabis industry;\\na case has been created to further investigate the activity conducted\\nwithin the business account of 12345678 CANADA INC.\\n$16,921.80 made payable to Benny NGO (Client Number: 123451234, with\\noccupation listed as chef Training) on April 29, 2020. The funds\\nreceived were depleted in lump sum via cash withdrawals, loan payments,\\nand pre-authorized payments; there was no e-transfers activity noted.\\n$12,335.95 made payable to LB GLOBAL MEDICAL INC. (Client Number:\\n123456123, coded as Advertising Agencies) on March 12, 2020. Overview of\\nthe business accounts revealed the draft was in turn depleted by online\\npurchase at Facebook for advertisement; as per DATATHON internal note,\\nLB GLOBAL MEDICAL INC. is purported to be involved in online\\nadvertisement.\\nCONCLUSION & RECOMMENDATION\\nIt appears, based on a transactional review and open-source findings\\nthat 99999B.C. LTD. is operating as an unlicensed, online Cannabis\\ndispensary. As such, concerns are raised on the transactional activity\\nand an STR is being filed.\\nAPPENDICES A. Detailed\\nAccount Activity:\\nOutgoing bank drafts: Dates Amounts Beneficiaries Financial\\nInstitutions\\n2020-04-29 $1,522.96 VINH QUYEN JOHN CHIM TD Bank\\n2020-05-08 $6,300.00 KAL MAO TD Bank\\n2020-05-29 $11,000.00 MOKHTAR REGBHT BMO\\n2020-03-12 $12,335.95 LB GLOBAL MEDICAL INC. DATATHON\\n2020-04-29 $16,921.41 BENNY NGO DATATHON\\n2020-03-18 $6,362.81 OUROBERYT TRADING AND LOGIS LTD CIBC\\n2020-03-24 $7,141.50 VINH JOHN CHIM TD Bank\\n2020-03-31 $20,000.00 MNMGH WUNG TD Bank\\n2020-05-13 $30,000.00 JNGB TRUST BMO\\n2020-05-08 $70,008.50 NJYUI TECH INC. BMO\\n2020-04-17 $75,008.50 JNGB TRUST BMO\\n2020-05-13 $3,000.00 ANNHNJ NUYEN CIBC\\n2020-05-13 $2,450.00 KAL MAO TD Bank\\n2020-03-31 $10,350.00 VINH QUYEN JOHN CHIM TD Bank\\n2020-03-24 $19,350.00 MATRGHN NJUIL TD Bank\\n2020-03-18 $7,229.25 12345666 MANAGJA INC. TD Bank\\n2020-03-18 $1,160.95 12345677 BC LTD Boast Capital\\nSavings 2020-03-18 $9,587.00 12345897 CANADA INC DATATHON\\nREFERENCES http://www.cammatrumpet.ca/”\\nREPORTING ENTITY’S ACTIONS TAKEN\\n“Clients have been demarketed by DATATHON.”\\nPage 5 of 9'"
      ]
     },
     "execution_count": 301,
     "metadata": {},
     "output_type": "execute_result"
    }
   ],
   "source": [
    "reports[0]"
   ]
  },
  {
   "cell_type": "code",
   "execution_count": 257,
   "metadata": {},
   "outputs": [
    {
     "data": {
      "text/plain": [
       "Index(['reporting_entity', 'transaction_date', 'account_holder', 'conductor',\n",
       "       'name', 'ref_no', 'gender', 'dob', 'address', 'phone', 'email',\n",
       "       'identity', 'occupation', 'employer', 'client_since',\n",
       "       'investigation_details', 'recommendations', 'appendices', 'references'],\n",
       "      dtype='object')"
      ]
     },
     "execution_count": 257,
     "metadata": {},
     "output_type": "execute_result"
    }
   ],
   "source": [
    "dataset_df.columns"
   ]
  },
  {
   "cell_type": "code",
   "execution_count": 258,
   "metadata": {},
   "outputs": [
    {
     "data": {
      "text/html": [
       "<div>\n",
       "<style scoped>\n",
       "    .dataframe tbody tr th:only-of-type {\n",
       "        vertical-align: middle;\n",
       "    }\n",
       "\n",
       "    .dataframe tbody tr th {\n",
       "        vertical-align: top;\n",
       "    }\n",
       "\n",
       "    .dataframe thead th {\n",
       "        text-align: right;\n",
       "    }\n",
       "</style>\n",
       "<table border=\"1\" class=\"dataframe\">\n",
       "  <thead>\n",
       "    <tr style=\"text-align: right;\">\n",
       "      <th></th>\n",
       "      <th>reporting_entity</th>\n",
       "      <th>transaction_date</th>\n",
       "      <th>account_holder</th>\n",
       "      <th>conductor</th>\n",
       "      <th>name</th>\n",
       "      <th>ref_no</th>\n",
       "      <th>gender</th>\n",
       "      <th>dob</th>\n",
       "      <th>address</th>\n",
       "      <th>phone</th>\n",
       "      <th>email</th>\n",
       "      <th>identity</th>\n",
       "      <th>occupation</th>\n",
       "      <th>employer</th>\n",
       "      <th>client_since</th>\n",
       "      <th>investigation_details</th>\n",
       "      <th>recommendations</th>\n",
       "      <th>appendices</th>\n",
       "      <th>references</th>\n",
       "    </tr>\n",
       "  </thead>\n",
       "  <tbody>\n",
       "    <tr>\n",
       "      <th>0</th>\n",
       "      <td>DATATHON BANK</td>\n",
       "      <td>2020-03-24</td>\n",
       "      <td>99999B.C. LTD.</td>\n",
       "      <td>Kal Mao</td>\n",
       "      <td>99999B.C. LTD.; 99999B.C. LTD.; Kal Mao</td>\n",
       "      <td>123456789; 123456789; 777456789</td>\n",
       "      <td>Male</td>\n",
       "      <td>January 30, 1994</td>\n",
       "      <td>111 BROWN STREET, MAPLE LEAF, BRITISH COLUMBIA...</td>\n",
       "      <td>(123) 111-3333; (122) 111-3333</td>\n",
       "      <td>secureLTD1234567@gmail.com</td>\n",
       "      <td></td>\n",
       "      <td>Owner of a Business</td>\n",
       "      <td>AMMA BEUATY SALON</td>\n",
       "      <td>February 2020; January 2020</td>\n",
       "      <td>Source Referral 99999B.C. LTD. was\\nflagged fo...</td>\n",
       "      <td>It appears, based on a transactional review an...</td>\n",
       "      <td>A. Detailed\\nAccount Activity:\\nOutgoing bank ...</td>\n",
       "      <td>http://www.cammatrumpet.ca/</td>\n",
       "    </tr>\n",
       "    <tr>\n",
       "      <th>1</th>\n",
       "      <td>DATATHON BANK</td>\n",
       "      <td>2018-11-21</td>\n",
       "      <td>Mary Hue TAYLOR</td>\n",
       "      <td>Mary Hue TAYLOR</td>\n",
       "      <td>Mary TAYLOR Alias(es): Mary Hue Thanh TAYLOR C...</td>\n",
       "      <td>555456123</td>\n",
       "      <td>Female</td>\n",
       "      <td>May 30, 1982</td>\n",
       "      <td>20 Bangley Street, Bangley, British Columbia, ...</td>\n",
       "      <td>(123) 123-7123; (123) 123-3123</td>\n",
       "      <td>marytaylor12@hotmail.com</td>\n",
       "      <td>British Columbia\\nDriver s License 1111123\\nPa...</td>\n",
       "      <td>Owner of a Business</td>\n",
       "      <td>Maryland Auto</td>\n",
       "      <td>Jan 2000</td>\n",
       "      <td>Source Referral Mary was flagged by branch 123...</td>\n",
       "      <td>Although a significant portion of Mary’s activ...</td>\n",
       "      <td></td>\n",
       "      <td>[1] Zolo: Retrieved from: https://www.zolo.ca/...</td>\n",
       "    </tr>\n",
       "  </tbody>\n",
       "</table>\n",
       "</div>"
      ],
      "text/plain": [
       "  reporting_entity transaction_date   account_holder        conductor  \\\n",
       "0    DATATHON BANK       2020-03-24   99999B.C. LTD.          Kal Mao   \n",
       "1    DATATHON BANK       2018-11-21  Mary Hue TAYLOR  Mary Hue TAYLOR   \n",
       "\n",
       "                                                name  \\\n",
       "0            99999B.C. LTD.; 99999B.C. LTD.; Kal Mao   \n",
       "1  Mary TAYLOR Alias(es): Mary Hue Thanh TAYLOR C...   \n",
       "\n",
       "                            ref_no  gender               dob  \\\n",
       "0  123456789; 123456789; 777456789    Male  January 30, 1994   \n",
       "1                        555456123  Female      May 30, 1982   \n",
       "\n",
       "                                             address  \\\n",
       "0  111 BROWN STREET, MAPLE LEAF, BRITISH COLUMBIA...   \n",
       "1  20 Bangley Street, Bangley, British Columbia, ...   \n",
       "\n",
       "                            phone                       email  \\\n",
       "0  (123) 111-3333; (122) 111-3333  secureLTD1234567@gmail.com   \n",
       "1  (123) 123-7123; (123) 123-3123    marytaylor12@hotmail.com   \n",
       "\n",
       "                                            identity           occupation  \\\n",
       "0                                                     Owner of a Business   \n",
       "1  British Columbia\\nDriver s License 1111123\\nPa...  Owner of a Business   \n",
       "\n",
       "            employer                 client_since  \\\n",
       "0  AMMA BEUATY SALON  February 2020; January 2020   \n",
       "1      Maryland Auto                     Jan 2000   \n",
       "\n",
       "                               investigation_details  \\\n",
       "0  Source Referral 99999B.C. LTD. was\\nflagged fo...   \n",
       "1  Source Referral Mary was flagged by branch 123...   \n",
       "\n",
       "                                     recommendations  \\\n",
       "0  It appears, based on a transactional review an...   \n",
       "1  Although a significant portion of Mary’s activ...   \n",
       "\n",
       "                                          appendices  \\\n",
       "0  A. Detailed\\nAccount Activity:\\nOutgoing bank ...   \n",
       "1                                                      \n",
       "\n",
       "                                          references  \n",
       "0                        http://www.cammatrumpet.ca/  \n",
       "1  [1] Zolo: Retrieved from: https://www.zolo.ca/...  "
      ]
     },
     "execution_count": 258,
     "metadata": {},
     "output_type": "execute_result"
    }
   ],
   "source": [
    "dataset_df"
   ]
  },
  {
   "attachments": {},
   "cell_type": "markdown",
   "metadata": {},
   "source": [
    "# Task 2: Summarize the Investigation Details"
   ]
  },
  {
   "cell_type": "code",
   "execution_count": 259,
   "metadata": {},
   "outputs": [],
   "source": [
    "# from transformers import pipeline\n",
    "\n",
    "# summarizer = pipeline(\"summarization\")\n",
    "\n",
    "# print(\"\\n\\n\\n\")\n",
    "# for row in dataset_df.iterrows():\n",
    "#     report_id = row[0]\n",
    "#     text = row[1]['investigation_details']\n",
    "#     summary = summarizer(text[:2980], min_length=250, max_length=1024)\n",
    "#     print(f\"\\nReport-{report_id+1}\\n{summary[0]['summary_text']}\")"
   ]
  },
  {
   "cell_type": "code",
   "execution_count": 253,
   "metadata": {},
   "outputs": [
    {
     "name": "stdout",
     "output_type": "stream",
     "text": [
      "\n",
      "\n",
      "\n",
      "\n",
      "\n",
      "Report-1\n",
      "99999B.C. LTD. was flagged for receiving a high volume of e-transfers. The funds were depleted through bank drafts totaling $309,728.83. Some of themitters were using names such as Marijuana, Marijuana dealer, CAMMA Trumpet, and cammatrumpet.ca.\n",
      "\n",
      "Report-2\n",
      "Mary’s accounts and over the counter transactions were reviewed between August 1, 2018 and January 1, 2019. Mary was flagged by branch 12345 on November 21, 2018 through an unusual transaction report due to a $50,000 over thecounter cash transaction which was used to pay a Datathon Express credit card card. When asked about the source of the funds Mary advised that it was savings that she kept in her home.\n"
     ]
    }
   ],
   "source": [
    "from transformers import BartTokenizer, BartModel\n",
    "from transformers import BartTokenizer, BartForConditionalGeneration\n",
    "\n",
    "# Load the BART tokenizer and model\n",
    "tokenizer = BartTokenizer.from_pretrained('facebook/bart-large-cnn')\n",
    "model = BartForConditionalGeneration.from_pretrained('facebook/bart-large-cnn')\n",
    "\n",
    "print(\"\\n\\n\")\n",
    "for row in dataset_df.iterrows():\n",
    "    report_id = row[0]\n",
    "    text = row[1]['investigation_details']\n",
    "\n",
    "    # Tokenize input text\n",
    "    inputs = tokenizer.encode(text, return_tensors='pt', max_length=1024, truncation=True)\n",
    "\n",
    "    # Generate summary\n",
    "    summary_ids = model.generate(inputs, num_beams=4,  max_length=500, early_stopping=True)\n",
    "    summary = tokenizer.decode(summary_ids.squeeze(), skip_special_tokens=True)\n",
    "    print(f\"\\nReport-{report_id+1}\\n{summary}\")"
   ]
  },
  {
   "attachments": {},
   "cell_type": "markdown",
   "metadata": {},
   "source": [
    "# Task 3: Template the document"
   ]
  },
  {
   "cell_type": "code",
   "execution_count": 295,
   "metadata": {},
   "outputs": [
    {
     "name": "stdout",
     "output_type": "stream",
     "text": [
      "**** FINANTIAL FRAUD ****\n",
      "------------------------------------------------------------\n",
      "Defendent\t: Kal Mao\n",
      "Reference No\t: 123456789\n",
      "------------------------------------------------------------\n",
      "Occupation\t: Owner of a Business\n",
      "DOB\t\t: January 30, 1994\n",
      "Addresses\t: 111 BROWN STREET, MAPLE LEAF, BRITISH COLUMBIA, K6L 0T6, CANADA; 111 BROWN STREET, MAPLE LEAF, BRITISH COLUMBIA, K6L 0T6, CANADA\n",
      "Phones\t\t: (123) 111-3333; (122) 111-3333\n",
      "Emails\t\t: secureLTD1234567@gmail.com\n",
      "------------------------------------------------------------\n"
     ]
    }
   ],
   "source": [
    "# Summarize Report 1 Finaltial analysis\n",
    "\n",
    "address = dataset_df.iloc[0]['address'].replace('\\n', ' ')\n",
    "ref = dataset_df.iloc[0]['ref_no'].split(\";\")[0]\n",
    "print(\"**** FINANTIAL FRAUD ****\")\n",
    "print(\"------------------------------------------------------------\")\n",
    "print(f\"Defendent\\t: {dataset_df.iloc[0]['conductor']}\")\n",
    "print(f\"Reference No\\t: {ref}\")\n",
    "print(\"------------------------------------------------------------\")\n",
    "print(f\"Occupation\\t: {dataset_df.iloc[0]['occupation']}\")\n",
    "print(f\"DOB\\t\\t: {dataset_df.iloc[0]['dob']}\")\n",
    "print(f\"Addresses\\t: {address}\")\n",
    "print(f\"Phones\\t\\t: {dataset_df.iloc[0]['phone']}\")\n",
    "print(f\"Emails\\t\\t: {dataset_df.iloc[0]['email']}\")\n",
    "print(\"------------------------------------------------------------\")"
   ]
  },
  {
   "cell_type": "code",
   "execution_count": 283,
   "metadata": {},
   "outputs": [
    {
     "data": {
      "text/plain": [
       "'(123) 111-3333; (122) 111-3333'"
      ]
     },
     "execution_count": 283,
     "metadata": {},
     "output_type": "execute_result"
    }
   ],
   "source": [
    "dataset_df.iloc[0]['phone']"
   ]
  },
  {
   "cell_type": "code",
   "execution_count": 281,
   "metadata": {},
   "outputs": [
    {
     "data": {
      "text/plain": [
       "reporting_entity                                             DATATHON BANK\n",
       "transaction_date                                                2020-03-24\n",
       "account_holder                                              99999B.C. LTD.\n",
       "conductor                                                          Kal Mao\n",
       "name                               99999B.C. LTD.; 99999B.C. LTD.; Kal Mao\n",
       "ref_no                                     123456789; 123456789; 777456789\n",
       "gender                                                                Male\n",
       "dob                                                       January 30, 1994\n",
       "address                  111 BROWN STREET, MAPLE LEAF, BRITISH COLUMBIA...\n",
       "phone                                       (123) 111-3333; (122) 111-3333\n",
       "email                                           secureLTD1234567@gmail.com\n",
       "identity                                                                  \n",
       "occupation                                             Owner of a Business\n",
       "employer                                                 AMMA BEUATY SALON\n",
       "client_since                                   February 2020; January 2020\n",
       "investigation_details    Source Referral 99999B.C. LTD. was\\nflagged fo...\n",
       "recommendations          It appears, based on a transactional review an...\n",
       "appendices               A. Detailed\\nAccount Activity:\\nOutgoing bank ...\n",
       "references                                     http://www.cammatrumpet.ca/\n",
       "Name: 0, dtype: object"
      ]
     },
     "execution_count": 281,
     "metadata": {},
     "output_type": "execute_result"
    }
   ],
   "source": [
    "dataset_df.iloc[0]"
   ]
  },
  {
   "cell_type": "code",
   "execution_count": null,
   "metadata": {},
   "outputs": [],
   "source": []
  }
 ],
 "metadata": {
  "kernelspec": {
   "display_name": ".venv",
   "language": "python",
   "name": "python3"
  },
  "language_info": {
   "codemirror_mode": {
    "name": "ipython",
    "version": 3
   },
   "file_extension": ".py",
   "mimetype": "text/x-python",
   "name": "python",
   "nbconvert_exporter": "python",
   "pygments_lexer": "ipython3",
   "version": "3.8.10"
  },
  "orig_nbformat": 4
 },
 "nbformat": 4,
 "nbformat_minor": 2
}
